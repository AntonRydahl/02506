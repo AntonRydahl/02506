{
 "cells": [
  {
   "cell_type": "markdown",
   "metadata": {},
   "source": [
    "# Exercises Week 9 in 02506: Developing a Neural Network for MNIST \n",
    "\n",
    "The dataset can be downloaded [as .gz files here](http://yann.lecun.com/exdb/mnist/)."
   ]
  },
  {
   "cell_type": "markdown",
   "metadata": {},
   "source": [
    "<p align=\"center\"> \n",
    "  <img src=\"../MNIST/raw/MNIST_images_train/image_train_00000.png\" width=\"300\" title=\"Very simple NN\">\n",
    "</p>"
   ]
  },
  {
   "cell_type": "markdown",
   "metadata": {},
   "source": [
    "### Imports"
   ]
  },
  {
   "cell_type": "code",
   "execution_count": 1,
   "metadata": {},
   "outputs": [],
   "source": [
    "import numpy as np\n",
    "import matplotlib.pyplot as plt\n",
    "from os import listdir\n",
    "import cv2\n",
    "from skimage.io import imshow\n",
    "import random\n",
    "\n",
    "# For confusion matrix\n",
    "import seaborn as sns\n",
    "from sklearn.metrics import confusion_matrix"
   ]
  },
  {
   "cell_type": "markdown",
   "metadata": {},
   "source": [
    "### Pre-processing of MNIST Data"
   ]
  },
  {
   "cell_type": "code",
   "execution_count": 2,
   "metadata": {},
   "outputs": [
    {
     "name": "stdout",
     "output_type": "stream",
     "text": [
      "There are 60000 images\n"
     ]
    }
   ],
   "source": [
    "img_path = '../MNIST/'\n",
    "raw_path = 'raw/MNIST_images_train/'\n",
    "processed_path = 'processed/'\n",
    "files = listdir(img_path+raw_path)\n",
    "print(f\"There are {np.size(files)} images\")"
   ]
  },
  {
   "cell_type": "markdown",
   "metadata": {},
   "source": [
    "### Loading, Transforming and Storing the Data"
   ]
  },
  {
   "cell_type": "code",
   "execution_count": 3,
   "metadata": {},
   "outputs": [
    {
     "name": "stdout",
     "output_type": "stream",
     "text": [
      "Preprocessed data already exists\n"
     ]
    }
   ],
   "source": [
    "def transform(img):\n",
    "    img = img.flatten() / 255.0\n",
    "    img -= np.mean(img)\n",
    "    img /= np.linalg.norm(img,2)\n",
    "    return np.float32(np.reshape(img,[784,1]))\n",
    "\n",
    "import os\n",
    "if len(listdir(img_path+processed_path)) == 0:\n",
    "    print(\"Directory is empty. Generating data\")\n",
    "    images = [transform(cv2.imread(img_path+raw_path+file, cv2.IMREAD_GRAYSCALE)) for file in files]\n",
    "    labels_tmp = np.load(img_path+'raw/MNIST_target_train.npy')\n",
    "    labels = []\n",
    "    for i in range(np.size(labels_tmp)):\n",
    "        lab = np.zeros([10,1]).astype(int)\n",
    "        lab[labels_tmp[i]] = 1\n",
    "        labels.append(lab)\n",
    "\n",
    "    # Splitting into train and test sets\n",
    "    print(np.array(images).shape)\n",
    "    n = np.size(files)\n",
    "    n_test = 10000\n",
    "    l = np.arange(0,n).astype(int)\n",
    "    random.shuffle(l) \n",
    "    idx_split = n-n_test;\n",
    "    idx_train = l[0:idx_split].astype(int)\n",
    "    idx_test =  l[idx_split-1:n-1].astype(int)\n",
    "    images = np.array(images)\n",
    "    np.save(img_path+processed_path+'train_images.npy', images[idx_train], allow_pickle=True, fix_imports=True)\n",
    "    np.save(img_path+processed_path+'test_images.npy', images[idx_test], allow_pickle=True, fix_imports=True)\n",
    "    np.save(img_path+processed_path+'train_labels.npy', labels[idx_train], allow_pickle=True, fix_imports=True)\n",
    "    np.save(img_path+processed_path+'test_labels.npy', labels[idx_test], allow_pickle=True, fix_imports=True)\n",
    "else:    \n",
    "    print(\"Preprocessed data already exists\")\n",
    "    img_train = np.load(img_path+processed_path+'train_images.npy')\n",
    "    img_test = np.load(img_path+processed_path+'test_images.npy')\n",
    "    label_train = np.load(img_path+processed_path+'train_labels.npy')\n",
    "    label_test = np.load(img_path+processed_path+'test_labels.npy')"
   ]
  },
  {
   "cell_type": "code",
   "execution_count": 4,
   "metadata": {},
   "outputs": [
    {
     "name": "stdout",
     "output_type": "stream",
     "text": [
      "(50000, 10, 1)\n"
     ]
    }
   ],
   "source": [
    "print(np.load(img_path+processed_path+'train_labels.npy').shape)"
   ]
  },
  {
   "cell_type": "markdown",
   "metadata": {},
   "source": [
    "### Making Mini-batches"
   ]
  },
  {
   "cell_type": "code",
   "execution_count": 5,
   "metadata": {},
   "outputs": [],
   "source": [
    "def make_batches(images,labels,batch_size=20):\n",
    "    M = np.shape(images)[0]\n",
    "    res = []\n",
    "    num_batches = np.ceil(M/batch_size).astype(int)\n",
    "    for i in range(num_batches-1):\n",
    "        imgs = np.hstack(images[i*batch_size:(i+1)*batch_size])\n",
    "        labs = np.hstack(labels[i*batch_size:(i+1)*batch_size])\n",
    "        res.append((imgs,labs))\n",
    "    return res\n",
    "\n",
    "bath_size = 20\n",
    "batches_test = make_batches(img_test,label_test,batch_size=bath_size)\n",
    "batches_train = make_batches(img_train,label_train,batch_size=bath_size)"
   ]
  },
  {
   "cell_type": "markdown",
   "metadata": {},
   "source": [
    "### Example of Transformed Data"
   ]
  },
  {
   "cell_type": "code",
   "execution_count": 6,
   "metadata": {},
   "outputs": [
    {
     "data": {
      "text/plain": [
       "<matplotlib.image.AxesImage at 0x7f3f0bbd31f0>"
      ]
     },
     "execution_count": 6,
     "metadata": {},
     "output_type": "execute_result"
    },
    {
     "data": {
      "image/png": "[encoded data removed]",
      "text/plain": [
       "<Figure size 432x288 with 2 Axes>"
      ]
     },
     "metadata": {
      "needs_background": "light"
     },
     "output_type": "display_data"
    }
   ],
   "source": [
    "imshow(np.reshape(img_train[0],[28,28]))"
   ]
  },
  {
   "cell_type": "markdown",
   "metadata": {},
   "source": [
    "### Activation Function\n",
    "Before we move on to make a neural network we have do define our activation functions and their derivatives"
   ]
  },
  {
   "cell_type": "code",
   "execution_count": 7,
   "metadata": {},
   "outputs": [
    {
     "name": "stdout",
     "output_type": "stream",
     "text": [
      "z=[[ 0.12740671 -0.94236642]\n",
      " [ 0.1098918   0.19179009]\n",
      " [-2.14192263  0.9148732 ]]\n",
      "ReLU(z)=[[0.12740671 0.        ]\n",
      " [0.1098918  0.19179009]\n",
      " [0.         0.9148732 ]]\n",
      "dReLU(z)=[[1. 0.]\n",
      " [1. 1.]\n",
      " [0. 1.]]\n",
      "Sigmoid(z)=[[0.53180866 0.28042259]\n",
      " [0.52744534 0.54780109]\n",
      " [0.10508844 0.71399633]]\n",
      "Softmax(z)=[[0.479382   0.09510604]\n",
      " [0.47105877 0.29564191]\n",
      " [0.04955923 0.60925205]]\n",
      "dSoftmax(z)=[[-0.88309676 -1.30780605]\n",
      " [-0.89141999 -1.10727017]\n",
      " [-1.31291954 -0.79366003]]\n"
     ]
    }
   ],
   "source": [
    "def ReLU(z):\n",
    "    zbar = np.zeros(z.shape)\n",
    "    idx = z > 0\n",
    "    zbar[idx] = z[idx]\n",
    "    return zbar\n",
    "\n",
    "def dReLU(z):\n",
    "    idx = z > 0\n",
    "    return idx.astype(float)\n",
    "\n",
    "def Sigmoid(z):\n",
    "    return 1/(1+np.exp(-z))\n",
    "\n",
    "def Softmax(z):\n",
    "    # Avoiding numerical instability\n",
    "    col_max = np.max(z, axis=0)\n",
    "    z -= col_max\n",
    "    expz = np.exp(z)\n",
    "    col_sum = np.sum(expz, axis=0)\n",
    "    ret = expz/col_sum\n",
    "    return ret\n",
    "\n",
    "def dSoftmax(z):\n",
    "    S = Softmax(z)\n",
    "    rows,cols = np.shape(S)\n",
    "    ret = np.hstack([np.sum(np.diagflat(S[:,i]) - np.dot(S[:,i], S[:,i].T),axis=1)[:,None] for i in range(cols)])\n",
    "    return ret\n",
    "\n",
    "z = np.random.normal(0,1,size=(3,2))\n",
    "print(f\"z={z}\")\n",
    "print(f\"ReLU(z)={ReLU(z)}\")\n",
    "print(f\"dReLU(z)={dReLU(z)}\")\n",
    "print(f\"Sigmoid(z)={Sigmoid(z)}\")\n",
    "print(f\"Softmax(z)={Softmax(z)}\")\n",
    "print(f\"dSoftmax(z)={dSoftmax(z)}\")"
   ]
  },
  {
   "cell_type": "markdown",
   "metadata": {},
   "source": [
    "### Initializing Arrays"
   ]
  },
  {
   "cell_type": "code",
   "execution_count": 8,
   "metadata": {},
   "outputs": [
    {
     "name": "stdout",
     "output_type": "stream",
     "text": [
      "init(4,2)=[[ 0.5295225  -0.3830954 ]\n",
      " [ 0.02685914  0.00191059]\n",
      " [-0.07074395  0.92357839]\n",
      " [-0.00328305  0.54887318]]\n"
     ]
    }
   ],
   "source": [
    "def init(rows,cols=1):\n",
    "    z = np.random.normal(0,1,size=(rows,cols))\n",
    "    return np.sqrt(2/(rows))*z\n",
    "\n",
    "print(f\"init(4,2)={init(4,2)}\")"
   ]
  },
  {
   "cell_type": "markdown",
   "metadata": {},
   "source": [
    "### Defining a Linear Layer\n",
    "We will now implement a linear layer that supports dropout. That is, it randomly removes the contributions from some connections in the linear layer during the forward pass."
   ]
  },
  {
   "cell_type": "code",
   "execution_count": 66,
   "metadata": {},
   "outputs": [
    {
     "name": "stdout",
     "output_type": "stream",
     "text": [
      "forward([[-0.7802668   0.02491309  0.62058277 -1.75409169]\n",
      " [-0.99662821 -0.56778595 -0.53270121 -1.59130295]\n",
      " [-0.63400378 -0.73528526 -1.08466657 -1.47858057]])\n",
      "=[[0.         0.92501866 0.99451164 3.23861823]\n",
      " [0.38025866 0.22965127 0.5704293  0.747775  ]\n",
      " [2.36433924 0.         0.24495754 3.83170511]\n",
      " [0.         0.38323859 0.         1.12944762]]\n"
     ]
    }
   ],
   "source": [
    "class LinearLayer:\n",
    "    def __init__(self,N_in,N_out,prob=0.0):\n",
    "        self.weights = init(N_out,N_in+1)\n",
    "        self.N_in = N_in\n",
    "        self.N_out = N_out\n",
    "        self.prob = prob\n",
    "    \n",
    "    def dropout(self,x):\n",
    "        mask = np.random.uniform(size=np.shape(x)) <= self.prob\n",
    "        x[mask] = 0\n",
    "        return x\n",
    "\n",
    "    def forward(self,X,train=True):\n",
    "        res = self.weights@np.vstack((X,np.ones([1,np.shape(X)[1]])))\n",
    "        if self.prob > 0 and train:\n",
    "            return self.dropout(res)\n",
    "        return res\n",
    "\n",
    "LL1 = LinearLayer(3,4,prob=0.1)\n",
    "X = np.random.normal(-1,1,size=(3,4))\n",
    "Y = LL1.forward(X)\n",
    "print(f\"forward({X})\\n={Y}\")"
   ]
  },
  {
   "cell_type": "markdown",
   "metadata": {},
   "source": [
    "### Defining Cross Entropy Loss\n"
   ]
  },
  {
   "cell_type": "code",
   "execution_count": 67,
   "metadata": {},
   "outputs": [
    {
     "name": "stdout",
     "output_type": "stream",
     "text": [
      "CrossEntropyLoss(Y,T)=-0.5300909816353991\n"
     ]
    }
   ],
   "source": [
    "def argmax(Y):\n",
    "    Ytmp = np.array(Y).argmax(axis=0)\n",
    "    Y = np.array([Y[:,i] == Y[Ytmp[i],i] for i in range(np.size(Ytmp))]).T\n",
    "    return Y\n",
    "    #return z.a.argmax(axis=0)\n",
    "    \n",
    "def CrossEntropyLoss(Y,T):\n",
    "    Y = Y.flatten()\n",
    "    T = T.flatten()\n",
    "    return np.sum(-np.log(Y[T>0]+0.0000001))/np.sum(T)\n",
    "\n",
    "T = argmax(Y)\n",
    "print(f\"CrossEntropyLoss(Y,T)={CrossEntropyLoss(Y,T)}\")"
   ]
  },
  {
   "cell_type": "markdown",
   "metadata": {},
   "source": [
    "### Defining Accuracy"
   ]
  },
  {
   "cell_type": "code",
   "execution_count": 68,
   "metadata": {},
   "outputs": [],
   "source": [
    "def accuracy(y,t):\n",
    "    M,N = np.shape(y)\n",
    "    y = np.argmax(y,axis=0)\n",
    "    t = np.argmax(t,axis=0)\n",
    "    return  np.sum(y == t)/N"
   ]
  },
  {
   "cell_type": "markdown",
   "metadata": {},
   "source": [
    "### Defining A Neural Network Class"
   ]
  },
  {
   "cell_type": "code",
   "execution_count": 74,
   "metadata": {},
   "outputs": [
    {
     "name": "stdout",
     "output_type": "stream",
     "text": [
      "NN(X)\n",
      "=[[0.05699141 0.07060001 0.09185873 0.05778886 0.10397362 0.03723531\n",
      "  0.12642696 0.0506133  0.1079732  0.1057151  0.08875705 0.08667357\n",
      "  0.06575804 0.0836954  0.05311516 0.10498198 0.07579047 0.0689841\n",
      "  0.10567771 0.05373376]\n",
      " [0.02833635 0.03098469 0.02656457 0.02125362 0.01935052 0.04796147\n",
      "  0.02404272 0.04235674 0.02355576 0.03267279 0.01850016 0.02752509\n",
      "  0.01482372 0.02869903 0.02310147 0.02902489 0.02920476 0.02223692\n",
      "  0.01418409 0.04112593]\n",
      " [0.0352317  0.09110745 0.07571691 0.11508177 0.04128497 0.06995315\n",
      "  0.06700103 0.05416356 0.06870801 0.08383173 0.05707935 0.0599572\n",
      "  0.03551781 0.06154602 0.06620037 0.06720604 0.17020971 0.06437346\n",
      "  0.0648715  0.06140957]\n",
      " [0.01951836 0.03915864 0.02964296 0.01741225 0.0191003  0.03203485\n",
      "  0.02281085 0.02190999 0.04615223 0.03871541 0.01839582 0.02932595\n",
      "  0.01678161 0.02416723 0.01267086 0.02889131 0.05562567 0.02520626\n",
      "  0.0243705  0.03223764]\n",
      " [0.06632138 0.07165983 0.0615663  0.05888918 0.06248075 0.07194125\n",
      "  0.04494608 0.06318397 0.08233787 0.08748826 0.08366573 0.11833504\n",
      "  0.04146636 0.07788384 0.07443116 0.06807864 0.07618437 0.05140823\n",
      "  0.06549226 0.04892119]\n",
      " [0.10822363 0.09500014 0.09253078 0.08932859 0.09555641 0.09504844\n",
      "  0.09209279 0.10510637 0.11220748 0.12979508 0.15423128 0.17952354\n",
      "  0.07181724 0.1574901  0.09531622 0.13227737 0.1108868  0.07706883\n",
      "  0.09491084 0.12026357]\n",
      " [0.05110415 0.04707197 0.04629507 0.027213   0.0400678  0.03235963\n",
      "  0.0825856  0.02691429 0.04838785 0.02817495 0.0491036  0.03034526\n",
      "  0.05703812 0.06038246 0.02150367 0.05058152 0.0444745  0.06355331\n",
      "  0.03926538 0.03071106]\n",
      " [0.10186006 0.11702185 0.20730532 0.10844099 0.1243255  0.1849274\n",
      "  0.11464614 0.08725665 0.10592834 0.10778779 0.09949174 0.11599551\n",
      "  0.19407137 0.0919277  0.06310583 0.08702464 0.11461819 0.11463753\n",
      "  0.08831176 0.07253868]\n",
      " [0.13062349 0.13902047 0.08169384 0.20253666 0.11632445 0.23162394\n",
      "  0.07587561 0.11034285 0.19398545 0.11447694 0.10366075 0.10900355\n",
      "  0.06876373 0.18647335 0.11363444 0.17837433 0.12772107 0.14952056\n",
      "  0.12223447 0.18041567]\n",
      " [0.40178947 0.29837497 0.28682552 0.30205508 0.37753569 0.19691455\n",
      "  0.34957223 0.43815228 0.21076381 0.27134194 0.32711452 0.24331529\n",
      "  0.43396199 0.22773487 0.47692082 0.25355928 0.19528445 0.36301081\n",
      "  0.38068149 0.35864292]]\n",
      "0.15\n"
     ]
    }
   ],
   "source": [
    "class NeuralNetwork:\n",
    "    def __init__(self,shapes,act_funs,diff_act_funs,seed = 1234,dropout=0.0):\n",
    "        np.random.seed(seed)\n",
    "        self.layers = []\n",
    "        self.act_funs = act_funs\n",
    "        self.diff_act_funs = diff_act_funs\n",
    "        self.length = np.size(act_funs)\n",
    "        assert(self.length == np.size(shapes)-1)\n",
    "        self.h = []\n",
    "        self.h.append([])\n",
    "        self.a = []\n",
    "        for i in range(self.length):\n",
    "            self.layers.append(LinearLayer(shapes[i],shapes[i+1],prob=dropout))\n",
    "        self.init_grads(shapes)\n",
    "        self.train_bool = True\n",
    "\n",
    "    def init_grads(self,shapes):\n",
    "        for i in range(self.length):\n",
    "            self.h.append(np.zeros([]))\n",
    "            self.a.append(np.zeros([]))\n",
    "    \n",
    "    def zero_grads(self):\n",
    "        self.h[0] = np.zeros(self.h[0].shape)\n",
    "        for i in range(self.length):\n",
    "            self.h[i+1] = np.zeros(self.h[i+1].shape)\n",
    "            self.a[i] = np.zeros(self.a[i].shape)\n",
    "    \n",
    "    def forward(self,X):\n",
    "        self.h[0] = X\n",
    "        for i in range(self.length):\n",
    "            X = self.layers[i].forward(X,train=self.train_bool)\n",
    "            if self.train:\n",
    "                self.h[i+1] = X\n",
    "                self.a[i] = self.diff_act_funs[i](X)\n",
    "            X = self.act_funs[i](X)\n",
    "        return X\n",
    "\n",
    "    def backward(self,Y,T,L,lr=0.01):\n",
    "        d = Y-np.float32(T)\n",
    "        h = []\n",
    "        for i,hi in enumerate(self.h):\n",
    "            h.append(np.vstack((hi,np.ones([1,np.shape(hi)[1]]))))\n",
    "        W = []\n",
    "        for i,layer in enumerate(self.layers):\n",
    "            wi = layer.weights\n",
    "            #print(f\"w{i}={wi}\")\n",
    "            W.append(wi[:,:-1])\n",
    "        for i in range(self.length-1,-1,-1):\n",
    "            Q = h[i]@d.T\n",
    "            Q /= np.shape(T)[1]\n",
    "            if i>0:\n",
    "                d = np.multiply(self.a[i-1],W[i].T@d)\n",
    "            # Updating weights\n",
    "            self.layers[i].weights -= lr*Q.T\n",
    "            #print(i)\n",
    "        \n",
    "        #for i,layer in enumerate(self.layers):\n",
    "            #wi = layer.weights\n",
    "            #print(f\"w{i}={wi}\")\n",
    "        self.zero_grads()\n",
    "\n",
    "    def train(self):\n",
    "        self.train_bool = True\n",
    "\n",
    "    def eval(self):\n",
    "        self.train_bool = False\n",
    "        self.zero_grads()\n",
    "\n",
    "X,T = batches_train[0]\n",
    "NN = NeuralNetwork([784,999,299,10],[ReLU,ReLU,Softmax],[dReLU,dReLU,dReLU])\n",
    "Y = NN.forward(X)\n",
    "L = CrossEntropyLoss(Y,T)\n",
    "NN.backward(Y,T,L)\n",
    "print(f\"NN(X)\\n={Y}\")\n",
    "print(accuracy(Y,T))"
   ]
  },
  {
   "cell_type": "markdown",
   "metadata": {},
   "source": [
    "### Training"
   ]
  },
  {
   "cell_type": "code",
   "execution_count": 78,
   "metadata": {},
   "outputs": [],
   "source": [
    "NN = NeuralNetwork([784,999,299,10],[ReLU,ReLU,Softmax],[dReLU,dReLU,dSoftmax],dropout=0.4)\n",
    "\n",
    "train_loss = []\n",
    "val_loss = []\n",
    "train_acc = []\n",
    "val_acc = []\n",
    "\n",
    "epochs = 50\n",
    "lr = 0.00008\n",
    "\n",
    "N_train = 1000 #np.size(batches_train)\n",
    "N_test = 100 #np.shape(batches_test)\n",
    "\n",
    "for e in range(epochs):\n",
    "    train_l = 0\n",
    "    train_a = 0\n",
    "    NN.train()\n",
    "    for i in range(N_train):\n",
    "        x,t = batches_train[i]\n",
    "        y = NN.forward(x)\n",
    "        t = t.astype(bool)\n",
    "        l = CrossEntropyLoss(y,t)\n",
    "        NN.backward(y,t,l,lr=lr)\n",
    "        train_l += l\n",
    "        train_a += accuracy(y,t)\n",
    "    train_loss.append(train_l/N_train)\n",
    "    train_acc.append(train_a/N_train)\n",
    "    val_l = 0\n",
    "    val_a = 0\n",
    "    NN.eval()\n",
    "    for i in range(N_test):\n",
    "        x,t  = batches_test[i]\n",
    "        y = NN.forward(x)\n",
    "        t = t.astype(bool)\n",
    "        l = CrossEntropyLoss(y,t)\n",
    "        val_l += l\n",
    "        val_a += accuracy(y,t)\n",
    "    val_loss.append(val_l/N_test)\n",
    "    val_acc.append(val_a/N_test)"
   ]
  },
  {
   "cell_type": "markdown",
   "metadata": {},
   "source": [
    "### Evaluating Results"
   ]
  },
  {
   "cell_type": "code",
   "execution_count": 83,
   "metadata": {},
   "outputs": [
    {
     "name": "stdout",
     "output_type": "stream",
     "text": [
      "Final accuracy:\n",
      "\tTraining: 0.6515\n",
      "\tValidation: 0.8329999999999999\n",
      "Final cross entropy loss :\n",
      "\tTraining: 1.0504163045507877\n",
      "\tValidation: 0.5299572790980281\n"
     ]
    }
   ],
   "source": [
    "print(f\"Final accuracy:\\n\\tTraining: {train_acc[epochs-1]}\\n\\tValidation: {val_acc[epochs-1]}\")\n",
    "print(f\"Final cross entropy loss :\\n\\tTraining: {train_loss[epochs-1]}\\n\\tValidation: {val_loss[epochs-1]}\")"
   ]
  },
  {
   "cell_type": "code",
   "execution_count": 79,
   "metadata": {},
   "outputs": [
    {
     "data": {
      "text/plain": [
       "<bound method Figure.show of <Figure size 864x288 with 2 Axes>>"
      ]
     },
     "execution_count": 79,
     "metadata": {},
     "output_type": "execute_result"
    },
    {
     "data": {
      "image/png": "[encoded data removed]",
      "text/plain": [
       "<Figure size 864x288 with 2 Axes>"
      ]
     },
     "metadata": {
      "needs_background": "light"
     },
     "output_type": "display_data"
    }
   ],
   "source": [
    "fig, (ax1,ax2) = plt.subplots(1,2,figsize=(12,4))\n",
    "ax1.plot(range(0,epochs),train_loss,c = 'blue',label='Training')\n",
    "ax1.plot(range(0,epochs),val_loss,c = 'orange',label='Validation')\n",
    "ax1.legend()\n",
    "ax1.set_title(\"Cross Entropy Loss\")\n",
    "ax2.plot(range(0,epochs),train_acc,c = 'blue',label='Training')\n",
    "ax2.plot(range(0,epochs),val_acc,c = 'orange',label='Validation')\n",
    "ax2.legend()\n",
    "ax2.set_title(\"Accuracy\")\n",
    "fig.show"
   ]
  },
  {
   "cell_type": "markdown",
   "metadata": {},
   "source": [
    "### Evaluating the Network Classifications\n",
    "To verify that the network did indeed compute the right thing, we will try to see how well it predicts the classes of the testset."
   ]
  },
  {
   "cell_type": "code",
   "execution_count": 80,
   "metadata": {},
   "outputs": [],
   "source": [
    "counter = 0\n",
    "\n",
    "predicted_img = None\n",
    "predicted_lab = None\n",
    "true_lab = None\n",
    "\n",
    "for i in range(N_test):\n",
    "    x,t  = batches_test[i]\n",
    "    y = NN.forward(x)\n",
    "    t = t.astype(bool)\n",
    "    l = CrossEntropyLoss(y,t)\n",
    "    val_l += l\n",
    "    len, n_im = np.shape(x)\n",
    "    if i > 0:\n",
    "        predicted_img = np.hstack((predicted_img,x))\n",
    "        predicted_lab = np.hstack((predicted_lab,y))\n",
    "        true_lab = np.hstack((true_lab,t))\n",
    "    else: \n",
    "        predicted_img = x\n",
    "        predicted_lab = y\n",
    "        true_lab = t\n",
    "NN.zero_grads()\n",
    "\n",
    "predicted_lab = np.argmax(predicted_lab,axis=0)\n",
    "true_lab = np.argmax(true_lab,axis=0)"
   ]
  },
  {
   "cell_type": "markdown",
   "metadata": {},
   "source": [
    "We can draw a few random images from the tests set and see, if they have been predicted correctly."
   ]
  },
  {
   "cell_type": "code",
   "execution_count": 81,
   "metadata": {},
   "outputs": [
    {
     "data": {
      "image/png": "[encoded data removed]",
      "text/plain": [
       "<Figure size 1080x972 with 24 Axes>"
      ]
     },
     "metadata": {
      "needs_background": "light"
     },
     "output_type": "display_data"
    }
   ],
   "source": [
    "m = 4\n",
    "n = 6\n",
    "\n",
    "fig, ax = plt.subplots(m,n,figsize=(3.75*m,2.25*n))\n",
    "\n",
    "for i in range(m):\n",
    "    for j in range(n):\n",
    "        idx = i*n+j\n",
    "        ax[i][j].imshow(np.reshape(predicted_img[:,idx],[28,28]))\n",
    "        ax[i][j].set_title(f\"Predicted: {predicted_lab[idx]}\\nTrue: {true_lab[idx]}\")"
   ]
  },
  {
   "cell_type": "markdown",
   "metadata": {},
   "source": [
    "### Confusion Matrix\n",
    "Overall the predictions seemed right. We can get an ideay about how good the predictions are by inspecting the confusion matrix."
   ]
  },
  {
   "cell_type": "code",
   "execution_count": 82,
   "metadata": {},
   "outputs": [
    {
     "data": {
      "image/png": "[encoded data removed]",
      "text/plain": [
       "<Figure size 432x288 with 2 Axes>"
      ]
     },
     "metadata": {
      "needs_background": "light"
     },
     "output_type": "display_data"
    }
   ],
   "source": [
    "conf_mat = confusion_matrix(true_lab, predicted_lab)\n",
    "ax = sns.heatmap(conf_mat, annot=True)\n",
    "ax.set_xlabel('\\nPredicted Classes')\n",
    "ax.set_ylabel('True Classes ');\n",
    "\n",
    "## Display the visualization of the Confusion Matrix.\n",
    "plt.show()"
   ]
  }
 ],
 "metadata": {
  "interpreter": {
   "hash": "5e0d5f321cf579499ac25957075dee61828dcb3318708aea191fa2b5a5cbd42f"
  },
  "kernelspec": {
   "display_name": "Python 3.9.7 64-bit ('image_analysis': conda)",
   "language": "python",
   "name": "python3"
  },
  "language_info": {
   "codemirror_mode": {
    "name": "ipython",
    "version": 3
   },
   "file_extension": ".py",
   "mimetype": "text/x-python",
   "name": "python",
   "nbconvert_exporter": "python",
   "pygments_lexer": "ipython3",
   "version": "3.9.7"
  },
  "orig_nbformat": 4
 },
 "nbformat": 4,
 "nbformat_minor": 2
}
