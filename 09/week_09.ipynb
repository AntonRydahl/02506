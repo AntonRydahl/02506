{
 "cells": [
  {
   "cell_type": "markdown",
   "metadata": {},
   "source": [
    "# Exercises Week 9 in 02506: Developing a Neural Network for MNIST \n",
    "\n",
    "The dataset can be downloaded [as .gz files here](http://yann.lecun.com/exdb/mnist/)."
   ]
  },
  {
   "cell_type": "markdown",
   "metadata": {},
   "source": [
    "<p align=\"center\"> \n",
    "  <img src=\"../MNIST/raw/MNIST_images_train/image_train_00000.png\" width=\"300\" title=\"Very simple NN\">\n",
    "</p>"
   ]
  },
  {
   "cell_type": "markdown",
   "metadata": {},
   "source": [
    "### Imports"
   ]
  },
  {
   "cell_type": "code",
   "execution_count": 329,
   "metadata": {},
   "outputs": [],
   "source": [
    "import numpy as np\n",
    "import matplotlib.pyplot as plt\n",
    "from os import listdir\n",
    "import cv2\n",
    "from skimage.io import imshow\n",
    "import random"
   ]
  },
  {
   "cell_type": "markdown",
   "metadata": {},
   "source": [
    "### Pre-processing of MNIST Data"
   ]
  },
  {
   "cell_type": "code",
   "execution_count": 330,
   "metadata": {},
   "outputs": [
    {
     "name": "stdout",
     "output_type": "stream",
     "text": [
      "There are 60000 images\n"
     ]
    }
   ],
   "source": [
    "img_path = '../MNIST/'\n",
    "raw_path = 'raw/MNIST_images_train/'\n",
    "processed_path = 'processed/'\n",
    "files = listdir(img_path+raw_path)\n",
    "print(f\"There are {np.size(files)} images\")"
   ]
  },
  {
   "cell_type": "markdown",
   "metadata": {},
   "source": [
    "### Loading, Transforming and Storing the Data"
   ]
  },
  {
   "cell_type": "code",
   "execution_count": 331,
   "metadata": {},
   "outputs": [
    {
     "name": "stdout",
     "output_type": "stream",
     "text": [
      "Preprocessed data already exists\n"
     ]
    }
   ],
   "source": [
    "def transform(img):\n",
    "    img = img.flatten() / 255.0\n",
    "    img -= np.mean(img)\n",
    "    img /= np.linalg.norm(img,2)\n",
    "    return np.float32(np.reshape(img,[784,1]))\n",
    "\n",
    "import os\n",
    "if len(listdir(img_path+processed_path)) == 0:\n",
    "    print(\"Directory is empty. Generating data\")\n",
    "    images = [transform(cv2.imread(img_path+raw_path+file, cv2.IMREAD_GRAYSCALE)) for file in files]\n",
    "    labels_tmp = np.load(img_path+'raw/MNIST_target_train.npy')\n",
    "    labels = []\n",
    "    for i in range(np.size(labels_tmp)):\n",
    "        lab = np.zeros([10,1]).astype(int)\n",
    "        lab[labels_tmp[i]] = 1\n",
    "        labels.append(lab)\n",
    "\n",
    "    # Splitting into train and test sets\n",
    "    print(np.array(images).shape)\n",
    "    n = np.size(files)\n",
    "    n_test = 10000\n",
    "    l = np.arange(0,n).astype(int)\n",
    "    random.shuffle(l) \n",
    "    idx_split = n-n_test;\n",
    "    idx_train = l[0:idx_split].astype(int)\n",
    "    idx_test =  l[idx_split-1:n-1].astype(int)\n",
    "    images = np.array(images)\n",
    "    np.save(img_path+processed_path+'train_images.npy', images[idx_train], allow_pickle=True, fix_imports=True)\n",
    "    np.save(img_path+processed_path+'test_images.npy', images[idx_test], allow_pickle=True, fix_imports=True)\n",
    "    np.save(img_path+processed_path+'train_labels.npy', labels[idx_train], allow_pickle=True, fix_imports=True)\n",
    "    np.save(img_path+processed_path+'test_labels.npy', labels[idx_test], allow_pickle=True, fix_imports=True)\n",
    "else:    \n",
    "    print(\"Preprocessed data already exists\")\n",
    "    img_train = np.load(img_path+processed_path+'train_images.npy')\n",
    "    img_test = np.load(img_path+processed_path+'test_images.npy')\n",
    "    label_train = np.load(img_path+processed_path+'train_labels.npy')\n",
    "    label_test = np.load(img_path+processed_path+'test_labels.npy')"
   ]
  },
  {
   "cell_type": "code",
   "execution_count": 332,
   "metadata": {},
   "outputs": [
    {
     "name": "stdout",
     "output_type": "stream",
     "text": [
      "(50000, 10, 1)\n"
     ]
    }
   ],
   "source": [
    "print(np.load(img_path+processed_path+'train_labels.npy').shape)"
   ]
  },
  {
   "cell_type": "markdown",
   "metadata": {},
   "source": [
    "### Making Mini-batches"
   ]
  },
  {
   "cell_type": "code",
   "execution_count": 333,
   "metadata": {},
   "outputs": [],
   "source": [
    "def make_batches(images,labels,batch_size=20):\n",
    "    M = np.shape(images)[0]\n",
    "    res = []\n",
    "    num_batches = np.ceil(M/batch_size).astype(int)\n",
    "    for i in range(num_batches-1):\n",
    "        imgs = np.hstack(images[i*batch_size:(i+1)*batch_size])\n",
    "        labs = np.hstack(labels[i*batch_size:(i+1)*batch_size])\n",
    "        res.append((imgs,labs))\n",
    "    return res\n",
    "\n",
    "bath_size = 20\n",
    "batches_test = make_batches(img_test,label_test,batch_size=bath_size)\n",
    "batches_train = make_batches(img_train,label_train,batch_size=bath_size)"
   ]
  },
  {
   "cell_type": "markdown",
   "metadata": {},
   "source": [
    "### Example of Transformed Data"
   ]
  },
  {
   "cell_type": "code",
   "execution_count": 334,
   "metadata": {},
   "outputs": [
    {
     "data": {
      "text/plain": [
       "<matplotlib.image.AxesImage at 0x7f081a28b130>"
      ]
     },
     "execution_count": 334,
     "metadata": {},
     "output_type": "execute_result"
    },
    {
     "data": {
      "image/png": "[encoded data removed]",
      "text/plain": [
       "<Figure size 432x288 with 2 Axes>"
      ]
     },
     "metadata": {
      "needs_background": "light"
     },
     "output_type": "display_data"
    }
   ],
   "source": [
    "imshow(np.reshape(images[0],[28,28]))"
   ]
  },
  {
   "cell_type": "markdown",
   "metadata": {},
   "source": [
    "### Activation Function\n"
   ]
  },
  {
   "cell_type": "code",
   "execution_count": 335,
   "metadata": {},
   "outputs": [
    {
     "name": "stdout",
     "output_type": "stream",
     "text": [
      "z=[[-0.53857787]\n",
      " [-1.15497786]\n",
      " [ 1.4444091 ]]\n",
      "ReLU(z)=[[0.       ]\n",
      " [0.       ]\n",
      " [1.4444091]]\n",
      "Sigmoid(z)=[[0.36851847]\n",
      " [0.23958103]\n",
      " [0.8091365 ]]\n",
      "Softmax(z)=[[0.11358094]\n",
      " [0.0613206 ]\n",
      " [0.82509846]]\n"
     ]
    }
   ],
   "source": [
    "def ReLU(z):\n",
    "    zbar = np.zeros(z.shape)\n",
    "    idx = z > 0\n",
    "    zbar[idx] = z[idx]\n",
    "    return zbar\n",
    "\n",
    "def dReLU(z):\n",
    "    idx = z > 0\n",
    "    return idx\n",
    "\n",
    "def Sigmoid(z):\n",
    "    return 1/(1+np.exp(-z))\n",
    "\n",
    "def Softmax(z):\n",
    "    expz = np.exp(z)\n",
    "    return np.hstack([np.reshape(expz[:,i]/np.sum(expz[:,i]),[np.shape(z)[0],1]) for i in range(np.shape(z)[1])])\n",
    "\n",
    "z = np.random.normal(0,1,size=(3,1))\n",
    "print(f\"z={z}\")\n",
    "print(f\"ReLU(z)={ReLU(z)}\")\n",
    "print(f\"Sigmoid(z)={Sigmoid(z)}\")\n",
    "print(f\"Softmax(z)={Softmax(z)}\")"
   ]
  },
  {
   "cell_type": "markdown",
   "metadata": {},
   "source": [
    "### Initializing Arrays"
   ]
  },
  {
   "cell_type": "code",
   "execution_count": 336,
   "metadata": {},
   "outputs": [
    {
     "name": "stdout",
     "output_type": "stream",
     "text": [
      "init(4,2)=[[ 0.66881219 -0.12835378]\n",
      " [-0.28235807  0.29612267]\n",
      " [ 0.22611494  0.7768242 ]\n",
      " [-0.03145103  1.66187164]]\n"
     ]
    }
   ],
   "source": [
    "def init(rows,cols=1):\n",
    "    z = np.random.normal(0,1,size=(rows,cols))\n",
    "    return np.sqrt(2/(rows))*z\n",
    "\n",
    "print(f\"init(4,2)={init(4,2)}\")"
   ]
  },
  {
   "cell_type": "markdown",
   "metadata": {},
   "source": [
    "### Defining a Linear Layer"
   ]
  },
  {
   "cell_type": "code",
   "execution_count": 337,
   "metadata": {},
   "outputs": [
    {
     "name": "stdout",
     "output_type": "stream",
     "text": [
      "forward([[-1.32947901 -2.11792731 -0.68307445 -1.33515291]\n",
      " [-1.94029014  0.33807942 -1.26217796 -2.35379755]\n",
      " [-1.07179887 -0.21159967 -1.07425345 -2.17182546]])\n",
      "=[[-2.43069011 -1.6952643  -1.88983859 -2.76155908]\n",
      " [-0.2878611   1.53740406 -0.73993246 -0.60968701]\n",
      " [ 2.53907882  0.32393777  1.66615739  4.68018248]\n",
      " [-0.25081316  0.13843728  0.23693195  0.26061576]]\n"
     ]
    }
   ],
   "source": [
    "class LinearLayer:\n",
    "    def __init__(self,N_in,N_out):\n",
    "        self.weights = init(N_out,N_in+1)\n",
    "        self.N_in = N_in\n",
    "        self.N_out = N_out\n",
    "\n",
    "    def forward(self,X):\n",
    "        return self.weights@np.vstack((X,np.ones([1,np.shape(X)[1]])))\n",
    "\n",
    "LL1 = LinearLayer(3,4)\n",
    "X = np.random.normal(-1,1,size=(3,4))\n",
    "Y = LL1.forward(X)\n",
    "print(f\"forward({X})\\n={Y}\")"
   ]
  },
  {
   "cell_type": "markdown",
   "metadata": {},
   "source": [
    "### Defining Cross Entropy Loss\n"
   ]
  },
  {
   "cell_type": "code",
   "execution_count": 338,
   "metadata": {},
   "outputs": [
    {
     "name": "stdout",
     "output_type": "stream",
     "text": [
      "CrossEntropyLoss(Y,T)=-0.8539384909288525\n"
     ]
    }
   ],
   "source": [
    "def argmax(Y):\n",
    "    Ytmp = np.array(Y).argmax(axis=0)\n",
    "    Y = np.array([Y[:,i] == Y[Ytmp[i],i] for i in range(np.size(Ytmp))]).T\n",
    "    return Y\n",
    "    #return z.a.argmax(axis=0)\n",
    "    \n",
    "def CrossEntropyLoss(Y,T):\n",
    "    Y = Y.flatten()\n",
    "    T = T.flatten()\n",
    "    return np.sum(-np.log(Y[T>0]+0.0000001))/np.sum(T)\n",
    "\n",
    "T = argmax(Y)\n",
    "print(f\"CrossEntropyLoss(Y,T)={CrossEntropyLoss(Y,T)}\")"
   ]
  },
  {
   "cell_type": "markdown",
   "metadata": {},
   "source": [
    "### Defining A Neural Network Class"
   ]
  },
  {
   "cell_type": "code",
   "execution_count": 339,
   "metadata": {},
   "outputs": [
    {
     "name": "stdout",
     "output_type": "stream",
     "text": [
      "NN(X)\n",
      "=[[0.05699141 0.07060001 0.09185873 0.05778886 0.10397362 0.03723531\n",
      "  0.12642696 0.0506133  0.1079732  0.1057151  0.08875705 0.08667357\n",
      "  0.06575804 0.0836954  0.05311516 0.10498198 0.07579047 0.0689841\n",
      "  0.10567771 0.05373376]\n",
      " [0.02833635 0.03098469 0.02656457 0.02125362 0.01935052 0.04796147\n",
      "  0.02404272 0.04235674 0.02355576 0.03267279 0.01850016 0.02752509\n",
      "  0.01482372 0.02869903 0.02310147 0.02902489 0.02920476 0.02223692\n",
      "  0.01418409 0.04112593]\n",
      " [0.0352317  0.09110745 0.07571691 0.11508177 0.04128497 0.06995315\n",
      "  0.06700103 0.05416356 0.06870801 0.08383173 0.05707935 0.0599572\n",
      "  0.03551781 0.06154602 0.06620037 0.06720604 0.17020971 0.06437346\n",
      "  0.0648715  0.06140957]\n",
      " [0.01951836 0.03915864 0.02964296 0.01741225 0.0191003  0.03203485\n",
      "  0.02281085 0.02190999 0.04615223 0.03871541 0.01839582 0.02932595\n",
      "  0.01678161 0.02416723 0.01267086 0.02889131 0.05562567 0.02520626\n",
      "  0.0243705  0.03223764]\n",
      " [0.06632138 0.07165983 0.0615663  0.05888918 0.06248075 0.07194125\n",
      "  0.04494608 0.06318397 0.08233787 0.08748826 0.08366573 0.11833504\n",
      "  0.04146636 0.07788384 0.07443116 0.06807864 0.07618437 0.05140823\n",
      "  0.06549226 0.04892119]\n",
      " [0.10822363 0.09500014 0.09253078 0.08932859 0.09555641 0.09504844\n",
      "  0.09209279 0.10510637 0.11220748 0.12979508 0.15423128 0.17952354\n",
      "  0.07181724 0.1574901  0.09531622 0.13227737 0.1108868  0.07706883\n",
      "  0.09491084 0.12026357]\n",
      " [0.05110415 0.04707197 0.04629507 0.027213   0.0400678  0.03235963\n",
      "  0.0825856  0.02691429 0.04838785 0.02817495 0.0491036  0.03034526\n",
      "  0.05703812 0.06038246 0.02150367 0.05058152 0.0444745  0.06355331\n",
      "  0.03926538 0.03071106]\n",
      " [0.10186006 0.11702185 0.20730532 0.10844099 0.1243255  0.1849274\n",
      "  0.11464614 0.08725665 0.10592834 0.10778779 0.09949174 0.11599551\n",
      "  0.19407137 0.0919277  0.06310583 0.08702464 0.11461819 0.11463753\n",
      "  0.08831176 0.07253868]\n",
      " [0.13062349 0.13902047 0.08169384 0.20253666 0.11632445 0.23162394\n",
      "  0.07587561 0.11034285 0.19398545 0.11447694 0.10366075 0.10900355\n",
      "  0.06876373 0.18647335 0.11363444 0.17837433 0.12772107 0.14952056\n",
      "  0.12223447 0.18041567]\n",
      " [0.40178947 0.29837497 0.28682552 0.30205508 0.37753569 0.19691455\n",
      "  0.34957223 0.43815228 0.21076381 0.27134194 0.32711452 0.24331529\n",
      "  0.43396199 0.22773487 0.47692082 0.25355928 0.19528445 0.36301081\n",
      "  0.38068149 0.35864292]]\n"
     ]
    }
   ],
   "source": [
    "class NeuralNetwork:\n",
    "    def __init__(self,shapes,act_funs,diff_act_funs,seed = 1234):\n",
    "        np.random.seed(seed)\n",
    "        self.layers = []\n",
    "        self.act_funs = act_funs\n",
    "        self.diff_act_funs = diff_act_funs\n",
    "        self.length = np.size(act_funs)\n",
    "        assert(self.length == np.size(shapes)-1)\n",
    "        self.h = []\n",
    "        self.h.append([])\n",
    "        self.a = []\n",
    "        for i in range(self.length):\n",
    "            self.layers.append(LinearLayer(shapes[i],shapes[i+1]))\n",
    "        self.init_grads(shapes)\n",
    "\n",
    "    def init_grads(self,shapes):\n",
    "        for i in range(self.length):\n",
    "            self.h.append(np.zeros([]))\n",
    "            self.a.append(np.zeros([]))\n",
    "    \n",
    "    def zero_grads(self):\n",
    "        self.h[0] = np.zeros(self.h[0].shape)\n",
    "        for i in range(self.length):\n",
    "            self.h[i+1] = np.zeros(self.h[i+1].shape)\n",
    "            self.a[i] = np.zeros(self.a[i].shape)\n",
    "    \n",
    "    def forward(self,X):\n",
    "        self.h[0] = X\n",
    "        for i in range(self.length):\n",
    "            X = self.layers[i].forward(X)\n",
    "            self.h[i+1] = X\n",
    "            self.a[i] = self.diff_act_funs[i](X)\n",
    "            X = self.act_funs[i](X)\n",
    "        return X\n",
    "\n",
    "    def backward(self,Y,T,L,lr=0.01):\n",
    "        d = Y-np.float32(T)\n",
    "        h = []\n",
    "        for i,hi in enumerate(self.h):\n",
    "            h.append(np.vstack((hi,np.ones([1,np.shape(hi)[1]]))))\n",
    "        W = []\n",
    "        for i,layer in enumerate(self.layers):\n",
    "            wi = layer.weights\n",
    "            #print(f\"w{i}={wi}\")\n",
    "            W.append(wi[:,:-1])\n",
    "        for i in range(self.length-1,-1,-1):\n",
    "            Q = h[i]@d.T\n",
    "            Q /= np.shape(T)[1]\n",
    "            if i>0:\n",
    "                d = np.multiply(self.a[i-1],W[i].T@d)\n",
    "            # Updating weights\n",
    "            self.layers[i].weights -= lr*Q.T\n",
    "            #print(i)\n",
    "        \n",
    "        #for i,layer in enumerate(self.layers):\n",
    "            #wi = layer.weights\n",
    "            #print(f\"w{i}={wi}\")\n",
    "        self.zero_grads()\n",
    "\n",
    "X,T = batches_train[0]\n",
    "NN = NeuralNetwork([784,999,299,10],[ReLU,ReLU,Softmax],[dReLU,dReLU,dReLU])\n",
    "Y = NN.forward(X)\n",
    "L = CrossEntropyLoss(Y,T)\n",
    "NN.backward(Y,T,L)\n",
    "print(f\"NN(X)\\n={Y}\")"
   ]
  },
  {
   "cell_type": "markdown",
   "metadata": {},
   "source": [
    "### Training"
   ]
  },
  {
   "cell_type": "code",
   "execution_count": 343,
   "metadata": {},
   "outputs": [],
   "source": [
    "NN = NeuralNetwork([784,999,299,10],[ReLU,ReLU,Softmax],[dReLU,dReLU,dReLU])\n",
    "\n",
    "train_loss = []\n",
    "val_loss = []\n",
    "\n",
    "epochs = 15\n",
    "\n",
    "N_train = 100 #np.size(batches_train)\n",
    "N_test = 10 #np.shape(batches_test)\n",
    "\n",
    "for e in range(epochs):\n",
    "    train_l = 0\n",
    "    for i in range(N_train):\n",
    "        x,t = batches_train[i]\n",
    "        y = NN.forward(x)\n",
    "        t = t.astype(bool)\n",
    "        l = CrossEntropyLoss(y,t)\n",
    "        NN.backward(y,t,l,lr=0.001)\n",
    "        train_l += l\n",
    "    train_loss.append(train_l/N_train)\n",
    "    val_l = 0\n",
    "    for i in range(N_test):\n",
    "        x,t  = batches_test[i]\n",
    "        y = NN.forward(x)\n",
    "        t = t.astype(bool)\n",
    "        l = CrossEntropyLoss(y,t)\n",
    "        val_l += l\n",
    "    NN.zero_grads()\n",
    "    val_loss.append(val_l/N_test)"
   ]
  },
  {
   "cell_type": "markdown",
   "metadata": {},
   "source": [
    "### Evaluating Results"
   ]
  },
  {
   "cell_type": "code",
   "execution_count": 344,
   "metadata": {},
   "outputs": [
    {
     "data": {
      "text/plain": [
       "<bound method Figure.show of <Figure size 864x288 with 1 Axes>>"
      ]
     },
     "execution_count": 344,
     "metadata": {},
     "output_type": "execute_result"
    },
    {
     "data": {
      "image/png": "[encoded data removed]",
      "text/plain": [
       "<Figure size 864x288 with 1 Axes>"
      ]
     },
     "metadata": {
      "needs_background": "light"
     },
     "output_type": "display_data"
    }
   ],
   "source": [
    "#class1 = np.where(np.equal(preds,0))\n",
    "#class2 = np.where(np.equal(preds,1))\n",
    "#print(f\"Prob of class 1 = {sum(np.equal(preds,0))/(2*N)}\")\n",
    "#print(f\"Prob of class 2 = {sum(np.equal(preds,1))/(N*2)}\")\n",
    "\n",
    "fig, (ax1) = plt.subplots(1,1,figsize=(12,4))\n",
    "ax1.plot(range(0,epochs),train_loss,c = 'blue',label='Training')\n",
    "ax1.plot(range(0,epochs),val_loss,c = 'orange',label='Validation')\n",
    "ax1.legend()\n",
    "ax1.set_title(\"Cross Entropy Loss\")\n",
    "fig.show"
   ]
  }
 ],
 "metadata": {
  "interpreter": {
   "hash": "5e0d5f321cf579499ac25957075dee61828dcb3318708aea191fa2b5a5cbd42f"
  },
  "kernelspec": {
   "display_name": "Python 3.9.7 64-bit ('image_analysis': conda)",
   "language": "python",
   "name": "python3"
  },
  "language_info": {
   "codemirror_mode": {
    "name": "ipython",
    "version": 3
   },
   "file_extension": ".py",
   "mimetype": "text/x-python",
   "name": "python",
   "nbconvert_exporter": "python",
   "pygments_lexer": "ipython3",
   "version": "3.9.7"
  },
  "orig_nbformat": 4
 },
 "nbformat": 4,
 "nbformat_minor": 2
}
