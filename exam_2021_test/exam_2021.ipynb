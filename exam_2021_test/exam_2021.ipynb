{
  "cells": [
    {
      "cell_type": "markdown",
      "metadata": {
        "id": "0XTal-L7rcFN"
      },
      "source": [
        "# 02506 Test Exam 2021"
      ]
    },
    {
      "cell_type": "code",
      "execution_count": 15,
      "metadata": {
        "id": "wKtCy__MrzDP"
      },
      "outputs": [],
      "source": [
        "#! pip install --upgrade numpy\n",
        "import numpy as np\n",
        "import matplotlib.pyplot as plt\n",
        "\n",
        "from skimage.io import imread, imshow\n",
        "\n",
        "import maxflow.fastmin\n",
        "\n",
        "from skimage.draw import polygon2mask\n",
        "import cv2\n",
        "from shapely.geometry import Polygon\n",
        "import scipy\n",
        "from skimage import color\n",
        "\n",
        "import torch\n"
      ]
    },
    {
      "cell_type": "markdown",
      "metadata": {},
      "source": [
        "## Question 1: Scale-normalized Laplacian\n",
        "The scale normalized laplacian is \n",
        "$$\n",
        "t\\nabla^2 L = t(L_{xx}+L_{yy})\n",
        "$$\n",
        "where $t$ is the variance."
      ]
    },
    {
      "cell_type": "code",
      "execution_count": 2,
      "metadata": {},
      "outputs": [
        {
          "name": "stdout",
          "output_type": "stream",
          "text": [
            "[False False  True False]\n",
            "The scale normalizes laplacian for t=[12] is [147.36]\n"
          ]
        }
      ],
      "source": [
        "t = np.array([10, 11, 12, 13])\n",
        "Lxx = np.array([6.24, 6.04, 5.12, 4.16])\n",
        "Lyy = np.array([7.11, 7.12, 7.16, 6.16])\n",
        "res = t*(Lxx+Lyy)\n",
        "idx = t == 12\n",
        "print(idx)\n",
        "print(f\"The scale normalizes laplacian for t={t[idx]} is {res[idx]}\")"
      ]
    },
    {
      "cell_type": "markdown",
      "metadata": {},
      "source": [
        "Which is answer (g)."
      ]
    },
    {
      "cell_type": "markdown",
      "metadata": {},
      "source": [
        "## Question 2: Image Scale-space\n",
        "Laplacian scale-space may be used for detecting blobs in an image I.\n",
        "Which of the following statements is correct?\n",
        "\n",
        "Due to the seperability of the Laplacian, $\\nabla^2 L = L_{xx}+L_{yy}$, andd since the Gaussian kernel is given by $g(x,y,t)=\\frac{1}{2\\pi t}e^{\\frac{-(x^2+y^2)}{2t}}$ the correct answer is (d):\n",
        "\n",
        "*Scale-space is obtained by smoothing, so the Laplacian scale-space is obtained\n",
        "by smoothing with two orthogonal 1D kernels $g=\\frac{1}{\\sqrt{2\\pi t}}e^{-\\frac{u^2}{2t}}$ where t is\n",
        "the scale.*"
      ]
    },
    {
      "cell_type": "markdown",
      "metadata": {},
      "source": [
        "## Question 3: Blob detection \n",
        "In scale-space blob detection, we use the Laplacian scale space. For\n",
        "a small image region we have computed the linear scale-space r2L shown below using\n",
        "scale steps of $\\Delta t =1$. We focus on a pixel in position $(r,c) = (4,2)$.\n",
        "<br>\n",
        "From page 21: *Remember that the radius of the blobs are $\\sqrt{2t}$, so you can look at the size of the structures that you\n",
        "want to detect to decide a good range of scales.*"
      ]
    },
    {
      "cell_type": "markdown",
      "metadata": {},
      "source": [
        "<p align=\"center\"> \n",
        "  <img src=\"./screenshots/q3.png\" width=\"600\">\n",
        "</p>"
      ]
    },
    {
      "cell_type": "markdown",
      "metadata": {},
      "source": [
        "Since we detect a local maxima, it is a **dark** blob. Thus the correct answer is\n",
        "<br>\n",
        "*(c) A dark blob is detected in position $(r,c) = (4,2)$ and it has a size corresponding to a circle with a radius of approximately $\\sqrt{2*3}$*"
      ]
    },
    {
      "cell_type": "markdown",
      "metadata": {},
      "source": [
        "## Question 4: Dictionary clustering \n",
        "We use probabilistic clustering-based segmentation as in the lecture notes Section 3.1.\n"
      ]
    },
    {
      "cell_type": "code",
      "execution_count": 3,
      "metadata": {},
      "outputs": [
        {
          "name": "stdout",
          "output_type": "stream",
          "text": [
            "[1. 2. 1. 2. 2. 2. 2. 2. 1. 1. 1. 1. 1. 2. 2. 1. 1.]\n",
            "p(x=1.0)=0.5384615384615384\n",
            "p(x=2.0)=0.46153846153846156\n"
          ]
        }
      ],
      "source": [
        "dist = np.loadtxt('data/distances.txt')\n",
        "labels = np.loadtxt('data/labels.txt')\n",
        "\n",
        "closest = np.argmin(dist,axis=0)\n",
        "idx = closest == (2-1)\n",
        "\n",
        "print(labels)\n",
        "for i in np.unique(labels):\n",
        "    print(f\"p(x={i})={sum(labels[idx] == i)/np.size(labels[idx])}\")"
      ]
    },
    {
      "cell_type": "markdown",
      "metadata": {},
      "source": [
        "Which is closests to (f) 0.54"
      ]
    },
    {
      "cell_type": "markdown",
      "metadata": {},
      "source": [
        "## Question 5: Smooth segmentation\n",
        "Below we show the probability image for three labels obtained\n",
        "using dictionary-based segmentation."
      ]
    },
    {
      "cell_type": "code",
      "execution_count": 4,
      "metadata": {},
      "outputs": [
        {
          "name": "stdout",
          "output_type": "stream",
          "text": [
            "p = (0.008, 0.21800000000000003, 0.77)\n"
          ]
        }
      ],
      "source": [
        "p1 = np.mean([0.04, 0, 0, 0, 0])\n",
        "p2 = np.mean([0.01, 0.15, 0.90, 0.01, 0.02])\n",
        "p3 = np.mean([0.98, 0.85, 0.06, 0.98, 0.98])\n",
        "print(f\"p = {(p1,p2,p3)}\")"
      ]
    },
    {
      "cell_type": "markdown",
      "metadata": {},
      "source": [
        "(c) Without noise reduction, a pixel (r; c) = (2; 3) has label 2 and with noise reduction it will have label 3."
      ]
    },
    {
      "cell_type": "markdown",
      "metadata": {},
      "source": [
        "## Question 6: Feature-based registration"
      ]
    },
    {
      "cell_type": "code",
      "execution_count": 5,
      "metadata": {},
      "outputs": [
        {
          "name": "stdout",
          "output_type": "stream",
          "text": [
            "[False False False  True False False False  True False False False False\n",
            " False False False False False False False False False False False False\n",
            " False False False False False False]\n"
          ]
        },
        {
          "data": {
            "text/plain": [
              "Text(0.5, 1.0, 'Outliers')"
            ]
          },
          "execution_count": 5,
          "metadata": {},
          "output_type": "execute_result"
        },
        {
          "data": {
            "image/png": "[encoded data removed]",
            "text/plain": [
              "<Figure size 864x360 with 3 Axes>"
            ]
          },
          "metadata": {
            "needs_background": "light"
          },
          "output_type": "display_data"
        }
      ],
      "source": [
        "P = np.loadtxt('data/points_p.txt')\n",
        "Q = np.loadtxt('data/points_q.txt')\n",
        "\n",
        "# Rotation\n",
        "theta = (140/360)*2*np.pi\n",
        "R = np.array([[np.cos(theta),-np.sin(theta)],[np.sin(theta),np.cos(theta)]])\n",
        "\n",
        "# Translation\n",
        "t = np.array([[36],[13]])\n",
        "\n",
        "# Scaling\n",
        "s = 1.7\n",
        "\n",
        "# Transformation\n",
        "# Ptrans = s*R@P+t\n",
        "Qtrans = (1/s)*np.linalg.inv(R)@(Q-t)\n",
        "\n",
        "# Outliers\n",
        "outliers = np.array([np.linalg.norm(Qtrans[:,i]-P[:,i]) for i in range(len(Q[0]))]) > 2.0\n",
        "print(outliers)\n",
        "\n",
        "\n",
        "fig,(ax1,ax2,ax3) = plt.subplots(1,3,figsize=(12,5))\n",
        "ax1.scatter(P[0],P[1],color='blue')\n",
        "ax1.set_title(\"Reference Image P\")\n",
        "ax2.scatter(Qtrans[0],Qtrans[1],color='red')\n",
        "ax2.set_title(\"Transformed Image Q\")\n",
        "ax3.scatter(P[0][outliers],P[1][outliers],color='blue')\n",
        "ax3.scatter(Qtrans[0][outliers],Qtrans[1][outliers],color='red')\n",
        "ax3.set_title(\"Outliers\")"
      ]
    },
    {
      "cell_type": "markdown",
      "metadata": {},
      "source": [
        "So we see that there are two outliers which is answer (c)."
      ]
    },
    {
      "cell_type": "markdown",
      "metadata": {},
      "source": [
        "## Question 7: SIFT Features\n",
        "- S: Scale\n",
        "- I: Invariant\n",
        "- F: Feature\n",
        "- T: Transformation\n",
        "<br>\n",
        "#### As of page 35 SIFT is\n",
        "- unique such that they encode just one position in an image,\n",
        "- invariant to change in view-point, overall intensity change, and change in noise level,\n",
        "- robust such that they will be detected despite image changes, and\n",
        "- efficient with respect to memory and computational time."
      ]
    },
    {
      "cell_type": "markdown",
      "metadata": {},
      "source": [
        "Since SIFt is not robust to mirroring, answer D is wrong. There is no specific level of change for which the algorithm works, thus C is wrong. Since SIFT **is** invariant to intensity change/illumination, B is wrong. Thus A is correct."
      ]
    },
    {
      "cell_type": "markdown",
      "metadata": {},
      "source": [
        "## Question 8: Gaussian Features\n",
        "The derivatives up the the third order is\n",
        "$[L,L_{x},L_{y},L_{xx},L_{xy},L_{yy},L_{xxx},L_{xxy},L_{xyy},L_{yyy}]$\n",
        "So if we have three scales and $10$ derivatives the output image will have $3\\times 10=30 $ channels and the answer is (g)."
      ]
    },
    {
      "cell_type": "markdown",
      "metadata": {},
      "source": [
        "## Question 9: Image Gradient\n"
      ]
    },
    {
      "cell_type": "code",
      "execution_count": 6,
      "metadata": {},
      "outputs": [
        {
          "name": "stdout",
          "output_type": "stream",
          "text": [
            "The magnitude of the derivative is 84.21995013059554\n"
          ]
        }
      ],
      "source": [
        "img = np.array([[181, 158, 145],[209, 175, 147],[210, 215, 211]])\n",
        "hor = -img[1,0]+img[1,2]\n",
        "ver = -img[0,1]+img[2,1]\n",
        "print(f\"The magnitude of the derivative is {np.sqrt(hor**2+ver**2)}\")"
      ]
    },
    {
      "cell_type": "markdown",
      "metadata": {},
      "source": [
        "Which is answer (e)"
      ]
    },
    {
      "cell_type": "markdown",
      "metadata": {},
      "source": [
        "## Question 10: Markovv Random Fields\n",
        "We are asked to compute the change in the segmentation energy"
      ]
    },
    {
      "cell_type": "code",
      "execution_count": 7,
      "metadata": {},
      "outputs": [
        {
          "name": "stdout",
          "output_type": "stream",
          "text": [
            "[[1 0 0 0 1 1]\n",
            " [1 0 0 0 1 1]\n",
            " [0 0 0 1 1 1]\n",
            " [0 0 0 1 1 1]\n",
            " [0 0 0 1 1 1]]\n",
            "Likelihood: 3971\n",
            "prior: 1125\n",
            "posterior: 5096\n",
            "Likelihood: 3431\n",
            "prior: 1375\n",
            "posterior: 4806\n"
          ]
        }
      ],
      "source": [
        "def segmentation_energy(S, I, mu, beta):\n",
        "\n",
        "    if (np.size(mu) == 3):\n",
        "    \n",
        "        # likelihood energy\n",
        "        likelihood = int(((mu[S0]-I)**2).sum())\n",
        "        \n",
        "        # prior energy\n",
        "        prior = beta * ((S0[1:,:]!=S0[:-1,:]).sum() + (S0[:,1:]!=S0[:,:-1]).sum())\n",
        "    else :  \n",
        "        # likelihood energy\n",
        "        likelihood = ((mu[S]-I)**2).sum()\n",
        "        \n",
        "        # prior energy\n",
        "        V2x = S[1:,:]!=S[:-1,:]\n",
        "        V2y = S[:,1:]!=S[:,:-1]\n",
        "        prior = beta * (V2x.sum() + V2y.sum())\n",
        "    \n",
        "    print(f'Likelihood: {int(likelihood)}\\nprior: {prior}\\nposterior: {int(likelihood+prior)}')\n",
        "\n",
        "    return(likelihood,prior)\n",
        "\n",
        "\n",
        "\n",
        "img = np.array([\n",
        "    [14, 40, 30, 45, 32, 40],\n",
        "    [33, 32, 40, 50, 23, 20],\n",
        "    [30, 35, 34, 45, 25, 21],\n",
        "    [31, 25, 40, 52, 20, 27],\n",
        "    [30, 38, 32, 40, 25, 20]\n",
        "    ]).astype(float)\n",
        "\n",
        "# Initial segmentation\n",
        "S1 = np.zeros(img.shape).astype(int)\n",
        "S1[0,0] = 1\n",
        "S1[1,0] = 1\n",
        "S1[2:,3] = 1\n",
        "S1[:,4:] = 1\n",
        "print(S1)\n",
        "\n",
        "# Updated segmentation\n",
        "S2 = np.copy(S1)\n",
        "S2[3,3] = 0\n",
        "\n",
        "# Means of the two classes\n",
        "mu = np.array([30, 20]) # [mu_0 mu_1]\n",
        "\n",
        "# Smoothness parameter\n",
        "beta = 125\n",
        "\n",
        "V1_1, V2_1 = segmentation_energy(S1, img, mu, beta)\n",
        "V1_2, V2_2 = segmentation_energy(S2, img, mu, beta)"
      ]
    },
    {
      "cell_type": "markdown",
      "metadata": {},
      "source": [
        "And the segmentation energy is the same as the posterior energy"
      ]
    },
    {
      "cell_type": "code",
      "execution_count": 8,
      "metadata": {},
      "outputs": [
        {
          "data": {
            "text/plain": [
              "-290"
            ]
          },
          "execution_count": 8,
          "metadata": {},
          "output_type": "execute_result"
        }
      ],
      "source": [
        "(int(V1_2+V2_2))-(int(V1_1+V2_1))"
      ]
    },
    {
      "cell_type": "markdown",
      "metadata": {},
      "source": [
        "which is answer (d)."
      ]
    },
    {
      "cell_type": "markdown",
      "metadata": {},
      "source": [
        "## Question 11: MRF - Posterior Energy of Maximum Likelihood Segmentation"
      ]
    },
    {
      "cell_type": "code",
      "execution_count": 9,
      "metadata": {},
      "outputs": [
        {
          "name": "stderr",
          "output_type": "stream",
          "text": [
            "/home/antonrydahl/anaconda3/envs/image_analysis/lib/python3.9/site-packages/skimage/io/_plugins/matplotlib_plugin.py:150: UserWarning: Low image data range; displaying image with stretched contrast.\n",
            "  lo, hi, cmap = _get_display_range(image)\n"
          ]
        },
        {
          "name": "stdout",
          "output_type": "stream",
          "text": [
            "Likelihood: 883802\n",
            "prior: 104300\n",
            "posterior: 988102\n"
          ]
        },
        {
          "data": {
            "text/plain": [
              "(883802, 104300)"
            ]
          },
          "execution_count": 9,
          "metadata": {},
          "output_type": "execute_result"
        },
        {
          "data": {
            "image/png": "[encoded data removed]",
            "text/plain": [
              "<Figure size 432x288 with 2 Axes>"
            ]
          },
          "metadata": {
            "needs_background": "light"
          },
          "output_type": "display_data"
        }
      ],
      "source": [
        "I = np.array(imread('data/circly.png'),dtype=float)\n",
        "\n",
        "# Centers\n",
        "mu = np.array([70, 120, 180], dtype=float)\n",
        "# Smoothness\n",
        "beta = 100\n",
        "\n",
        "U = np.stack([I-mu[0], I-mu[1], I-mu[2]], axis=2)**2\n",
        "\n",
        "#%% C computing MAP using graph cuts\n",
        "S0 = np.argmin(U, axis=2)\n",
        "S_GC = S0.copy()\n",
        "seg = maxflow.fastmin.aexpansion_grid(U, beta - \n",
        "                            beta*np.eye(3, 3, dtype=U.dtype), labels = S_GC)\n",
        "\n",
        "imshow(seg)\n",
        "mu[seg]\n",
        "segmentation_energy(seg, I, mu, beta)\n"
      ]
    },
    {
      "cell_type": "markdown",
      "metadata": {},
      "source": [
        "So te posterior energy is 988102 which is answer (h)"
      ]
    },
    {
      "cell_type": "markdown",
      "metadata": {},
      "source": [
        "## Question 12: Binary MRF\n"
      ]
    },
    {
      "cell_type": "code",
      "execution_count": 10,
      "metadata": {},
      "outputs": [
        {
          "name": "stdout",
          "output_type": "stream",
          "text": [
            "Likelihood: 25013381\n",
            "prior: 2244000\n",
            "posterior: 27257381\n",
            "The area of the bright class is 5810\n"
          ]
        },
        {
          "data": {
            "image/png": "[encoded data removed]",
            "text/plain": [
              "<Figure size 432x288 with 2 Axes>"
            ]
          },
          "metadata": {
            "needs_background": "light"
          },
          "output_type": "display_data"
        }
      ],
      "source": [
        "I = np.array(imread('data/bony.png'),dtype=float)\n",
        "\n",
        "# Centers\n",
        "mu = np.array([130, 190], dtype=float)\n",
        "# Smoothness\n",
        "beta = 3000\n",
        "\n",
        "U = np.stack([I-mu[0], I-mu[1]], axis=2)**2\n",
        "\n",
        "#%% C computing MAP using graph cuts\n",
        "S0 = np.argmin(U, axis=2)\n",
        "S_GC = S0.copy()\n",
        "seg = maxflow.fastmin.aexpansion_grid(U, beta - \n",
        "                            beta*np.eye(2,2, dtype=U.dtype), labels = S_GC)\n",
        "\n",
        "imshow(seg)\n",
        "mu[seg]\n",
        "segmentation_energy(seg, I, mu, beta)\n",
        "\n",
        "print(f\"The area of the bright class is {sum(sum(seg > 0))}\")"
      ]
    },
    {
      "cell_type": "markdown",
      "metadata": {},
      "source": [
        "and 5810 corresponds to answer (c)."
      ]
    },
    {
      "cell_type": "markdown",
      "metadata": {},
      "source": [
        "## Question 13: Deformable Models\n",
        "Which of the following statement is **not** correct with regards to\n",
        "deformable models?\n",
        "- Internal forces are computed based on the curve and the image intensities. - **false**, the internal forces depend only on the shape of the curve, see equation 6.2\n",
        "- For an outward pointing normal, the scalar component of the force must be negative for the curve to move inwards. -true\n",
        "- External forces are computed based on the curve and image intensities. - true, see equation 6.1\n",
        "- A parametric curve can be represented by points connected by straight line segments. - true"
      ]
    },
    {
      "cell_type": "markdown",
      "metadata": {},
      "source": [
        "## Question 14: Deformable Models - External Force\n",
        "What is the **scalar component** of the external force acting on the curve point at the\n",
        "bottom left corner (highlighted) of this square?"
      ]
    },
    {
      "cell_type": "code",
      "execution_count": 47,
      "metadata": {},
      "outputs": [
        {
          "name": "stdout",
          "output_type": "stream",
          "text": [
            "The scalar external force in the corner point is [-0.18334913]\n"
          ]
        },
        {
          "data": {
            "image/png": "[encoded data removed]",
            "text/plain": [
              "<Figure size 432x288 with 1 Axes>"
            ]
          },
          "metadata": {
            "needs_background": "light"
          },
          "output_type": "display_data"
        }
      ],
      "source": [
        "def get_circle_snake(frame,num_points = 100):\n",
        "    avals = np.linspace(0,2*np.pi,num_points)\n",
        "    H,W = np.shape(frame)\n",
        "    r = H/5\n",
        "    x0 = H/2\n",
        "    y0 = W/2\n",
        "    x = np.array([x0+r*np.cos(a) for a in avals])\n",
        "    y = np.array([y0+r*np.sin(a) for a in avals])\n",
        "    snake = np.array([x,y]).T.astype(int)\n",
        "    return snake\n",
        "\n",
        "def get_square_snake(frame,r = 40):\n",
        "    H,W = np.shape(frame)\n",
        "    x0 = int(H/2)\n",
        "    y0 = int(W/2)\n",
        "    vert = np.arange(x0-r,x0+r)\n",
        "    hor = np.arange(y0-r,y0+r)\n",
        "    x = np.concatenate((0*hor+x0+r,vert,np.flip(x0-r+0*hor),np.flip(vert)))\n",
        "    y = np.concatenate((hor,y0+r+0*vert,np.flip(hor),np.flip(y0-r+0*vert)))\n",
        "    snake = np.array([x,y]).T.astype(int)\n",
        "    return snake\n",
        "\n",
        "def get_int_ext(frame,snake):\n",
        "    frame_shape = np.shape(frame)\n",
        "    interior = polygon2mask(frame_shape,snake)\n",
        "    exterior = np.logical_not(interior)\n",
        "    return interior, exterior\n",
        "\n",
        "def get_means(frame,snake):\n",
        "    frame_shape = np.shape(frame)\n",
        "    interior, exterior = get_int_ext(frame,snake)\n",
        "    mu_in = np.mean(frame[interior])\n",
        "    mu_out = np.mean(frame[exterior])\n",
        "    return mu_in,mu_out\n",
        "\n",
        "\n",
        "def get_force(frame,snake,num_points=100):\n",
        "    mu_in,mu_out = get_means(frame,snake)\n",
        "    F_ext = np.zeros([num_points,1])\n",
        "    for i,cords in enumerate(snake):\n",
        "        x,y = cords\n",
        "        scale = (mu_in-mu_out)*(2*frame[x,y]-mu_in-mu_out)\n",
        "        F_ext[i] = scale\n",
        "    return F_ext\n",
        "\n",
        "\n",
        "\n",
        "def regularization_matrix_version2(N, alpha, beta):\n",
        "    d = alpha*np.array([-2, 1, 0, 0]) + beta*np.array([-6, 4, -1, 0])\n",
        "    D = np.fromfunction(lambda i,j: np.minimum((i-j)%N,(j-i)%N), (N,N), dtype=np.int)\n",
        "    A = d[np.minimum(D,len(d)-1)]\n",
        "    return(scipy.linalg.inv(np.eye(N)-A))\n",
        "\n",
        "\n",
        "def disp_img_with_snake(img,snake):\n",
        "    alpha = 0.2\n",
        "\n",
        "    alpha = 0.5 # that's your transparency factor\n",
        "    polygon = Polygon(snake[:,[1,0]])\n",
        "    int_coords = lambda x: np.array(x).round().astype(np.int32)\n",
        "    exterior = [int_coords(polygon.exterior.coords)]\n",
        "\n",
        "    image = img.copy()\n",
        "    overlay = image.copy()\n",
        "    cv2.fillPoly(overlay, exterior, color=(255, 255, 0))\n",
        "    cv2.addWeighted(overlay, alpha, image, 1 - alpha, 0, image)\n",
        "    imshow(image)\n",
        "\n",
        "img = imread('data/frame.png')\n",
        "img_gray = img.copy().astype(float)/255.0\n",
        "\n",
        "snake = get_square_snake(img_gray,r = 40)\n",
        "\n",
        "disp_img_with_snake(img,snake)\n",
        "\n",
        "F = get_force(img_gray,snake,num_points=np.size(snake[:,]))\n",
        "\n",
        "print(f\"The scalar external force in the corner point is {F[0]}\")"
      ]
    },
    {
      "cell_type": "markdown",
      "metadata": {},
      "source": [
        "which is close to -0.19 which is answer (f)"
      ]
    },
    {
      "cell_type": "markdown",
      "metadata": {},
      "source": [
        "## Question 15: Curve Smoothing\n",
        "We use formula 1.13 from page 10:\n",
        "$$\n",
        "X^{new}=(I-\\alpha A - \\beta B)^-1X\n",
        "$$"
      ]
    },
    {
      "cell_type": "code",
      "execution_count": 73,
      "metadata": {},
      "outputs": [
        {
          "name": "stdout",
          "output_type": "stream",
          "text": [
            "[0.52  3.065]\n"
          ]
        }
      ],
      "source": [
        "alpha = 0.05\n",
        "beta = 0.1\n",
        "A = np.array([0, 1, -2, 1, 0])\n",
        "B = np.array([-1,4,-6,4,-1])\n",
        "\n",
        "S = np.array([[3.5,0.2],[1.4,1.1],[0.1,2.9],[1.2,5.4],[3.3,7.1]])\n",
        "\n",
        "# REMEMBER 0 INDEX HERE\n",
        "mid = 2\n",
        "print(S[mid]+alpha*A@S+beta*B@S)"
      ]
    },
    {
      "cell_type": "markdown",
      "metadata": {},
      "source": [
        "which is answer (d)."
      ]
    },
    {
      "cell_type": "markdown",
      "metadata": {},
      "source": [
        "## Question 16: Surface detection\n",
        "<p align=\"center\"> \n",
        "  <img src=\"./screenshots/q16.png\" width=\"300\">\n",
        "</p>\n",
        "Since both in the x and y direction the maximum change is 3 we must have that $\\Delta x \\geq 3$. Thus only answer (d) is possible."
      ]
    }
  ],
  "metadata": {
    "accelerator": "GPU",
    "colab": {
      "collapsed_sections": [],
      "name": "02506_week10_MiniUnet",
      "provenance": []
    },
    "interpreter": {
      "hash": "5e0d5f321cf579499ac25957075dee61828dcb3318708aea191fa2b5a5cbd42f"
    },
    "kernelspec": {
      "display_name": "Python 3.9.7 ('image_analysis')",
      "language": "python",
      "name": "python3"
    },
    "language_info": {
      "codemirror_mode": {
        "name": "ipython",
        "version": 3
      },
      "file_extension": ".py",
      "mimetype": "text/x-python",
      "name": "python",
      "nbconvert_exporter": "python",
      "pygments_lexer": "ipython3",
      "version": "3.9.7"
    }
  },
  "nbformat": 4,
  "nbformat_minor": 0
}
